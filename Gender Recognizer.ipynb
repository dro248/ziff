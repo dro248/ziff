{
 "cells": [
  {
   "cell_type": "code",
   "execution_count": 1,
   "metadata": {},
   "outputs": [
    {
     "name": "stderr",
     "output_type": "stream",
     "text": [
      "Using TensorFlow backend.\n"
     ]
    }
   ],
   "source": [
    "import os\n",
    "import matplotlib.pyplot as plt\n",
    "import cv2\n",
    "\n",
    "import numpy as np\n",
    "from keras.models import Sequential\n",
    "from keras.layers import Dense, Dropout, Activation, Flatten, Conv2D, MaxPool2D\n",
    "\n",
    "# Using static random seed\n",
    "np.random.seed(123)\n",
    "\n",
    "# number of images taken from each\n",
    "COUNT = 1000"
   ]
  },
  {
   "cell_type": "markdown",
   "metadata": {},
   "source": [
    "#### Load Male Images"
   ]
  },
  {
   "cell_type": "code",
   "execution_count": 2,
   "metadata": {},
   "outputs": [
    {
     "data": {
      "text/plain": [
       "(1000, 50, 50, 3)"
      ]
     },
     "execution_count": 2,
     "metadata": {},
     "output_type": "execute_result"
    }
   ],
   "source": [
    "# Placeholder for data\n",
    "male_list = list()\n",
    "\n",
    "# Set the number taken from the male section\n",
    "MALE_COUNT = COUNT\n",
    "\n",
    "for filename in os.listdir(\"male/\"):\n",
    "    # Only use jpg files -- other types of files ignored\n",
    "    if filename.endswith(\".jpg\"):\n",
    "        \n",
    "        relative_img_filename = os.path.join(\"male/\", filename)\n",
    "        \n",
    "        # Create image from filename\n",
    "        image = cv2.imread(relative_img_filename)\n",
    "        resized_img = cv2.resize(image, dsize=(50, 50), interpolation=cv2.INTER_CUBIC)\n",
    "        \n",
    "        # Convert image to numpy array\n",
    "        npImage = np.array(resized_img)\n",
    "        \n",
    "        # Add to list\n",
    "        male_list.append(npImage)\n",
    "        \n",
    "        MALE_COUNT -= 1\n",
    "        if(MALE_COUNT <= 0):\n",
    "            break\n",
    "\n",
    "# Turn male_list into numpy array\n",
    "male_list = np.array(male_list)\n",
    "male_list.shape"
   ]
  },
  {
   "cell_type": "markdown",
   "metadata": {},
   "source": [
    "#### Load Female Images"
   ]
  },
  {
   "cell_type": "code",
   "execution_count": 3,
   "metadata": {},
   "outputs": [
    {
     "data": {
      "text/plain": [
       "(1000, 50, 50, 3)"
      ]
     },
     "execution_count": 3,
     "metadata": {},
     "output_type": "execute_result"
    }
   ],
   "source": [
    "female_list = list()\n",
    "\n",
    "# Set the number taken from the female section\n",
    "FEMALE_COUNT = COUNT\n",
    "\n",
    "for filename in os.listdir(\"female/\"):\n",
    "    if filename.endswith(\".jpg\"):\n",
    "        relative_img_filename = os.path.join(\"female/\", filename)\n",
    "        \n",
    "        # Create image from filename\n",
    "        image = cv2.imread(relative_img_filename)\n",
    "        resized_img = cv2.resize(image, dsize=(50, 50), interpolation=cv2.INTER_CUBIC)\n",
    "        \n",
    "        # Convert image to numpy array\n",
    "        npImage = np.array(resized_img)\n",
    "        \n",
    "        # Add to list prepending label (0: male, 1: female)\n",
    "        female_list.append(npImage)\n",
    "        \n",
    "        FEMALE_COUNT -= 1\n",
    "        if(FEMALE_COUNT <= 0):\n",
    "            break\n",
    "\n",
    "# Turn male_list into numpy array\n",
    "female_list = np.array(female_list)\n",
    "female_list.shape"
   ]
  },
  {
   "cell_type": "markdown",
   "metadata": {},
   "source": [
    "#### Add labels (0: male, 1: female)"
   ]
  },
  {
   "cell_type": "code",
   "execution_count": 4,
   "metadata": {},
   "outputs": [],
   "source": [
    "reshaped_male = list()\n",
    "for item in male_list:\n",
    "    reshaped_male.append((0, item))\n",
    "\n",
    "reshaped_female = list()\n",
    "for item in male_list:\n",
    "    reshaped_female.append((1, item))"
   ]
  },
  {
   "cell_type": "markdown",
   "metadata": {},
   "source": [
    "### Aggregate and Shuffle"
   ]
  },
  {
   "cell_type": "code",
   "execution_count": 5,
   "metadata": {},
   "outputs": [],
   "source": [
    "all_data = reshaped_male + reshaped_female"
   ]
  },
  {
   "cell_type": "code",
   "execution_count": 6,
   "metadata": {},
   "outputs": [],
   "source": [
    "from random import shuffle\n",
    "shuffle(all_data)"
   ]
  },
  {
   "cell_type": "markdown",
   "metadata": {},
   "source": [
    "### Arrange into Training / Test sets"
   ]
  },
  {
   "cell_type": "code",
   "execution_count": 7,
   "metadata": {},
   "outputs": [],
   "source": [
    "# extract the labels\n",
    "data = []\n",
    "labels = []"
   ]
  },
  {
   "cell_type": "code",
   "execution_count": 8,
   "metadata": {},
   "outputs": [],
   "source": [
    "for item in all_data:\n",
    "    # Add label to labels\n",
    "    labels.append(item[0])\n",
    "    \n",
    "    # Add data_item to data\n",
    "    data.append(item[1])"
   ]
  },
  {
   "cell_type": "code",
   "execution_count": 9,
   "metadata": {},
   "outputs": [],
   "source": [
    "data = np.array(data)"
   ]
  },
  {
   "cell_type": "code",
   "execution_count": 10,
   "metadata": {},
   "outputs": [
    {
     "data": {
      "text/plain": [
       "(2000, 50, 50, 3)"
      ]
     },
     "execution_count": 10,
     "metadata": {},
     "output_type": "execute_result"
    }
   ],
   "source": [
    "data.shape\n",
    "# This should look like:\n",
    "# (5500, 350, 350, 3)\n",
    "# (num_imgs, width?, height?, depth) --> Depth signifies color depth or R, G, B as distinct values"
   ]
  },
  {
   "cell_type": "code",
   "execution_count": 11,
   "metadata": {},
   "outputs": [],
   "source": [
    "labels = np.array(labels)"
   ]
  },
  {
   "cell_type": "code",
   "execution_count": 12,
   "metadata": {},
   "outputs": [
    {
     "data": {
      "text/plain": [
       "2000"
      ]
     },
     "execution_count": 12,
     "metadata": {},
     "output_type": "execute_result"
    }
   ],
   "source": [
    "len(labels)"
   ]
  },
  {
   "cell_type": "markdown",
   "metadata": {},
   "source": [
    "#### Normalize pixel values\n",
    "Current form:\n",
    "- int value (0, 255)\n",
    "Target form:\n",
    "- float value (0.0, 1.0)"
   ]
  },
  {
   "cell_type": "code",
   "execution_count": 13,
   "metadata": {},
   "outputs": [],
   "source": [
    "from sklearn.model_selection import train_test_split"
   ]
  },
  {
   "cell_type": "code",
   "execution_count": 14,
   "metadata": {},
   "outputs": [],
   "source": [
    "# Split the data\n",
    "data_train, data_test, labels_train, labels_test = train_test_split(data, labels, test_size=0.20, random_state=42)"
   ]
  },
  {
   "cell_type": "code",
   "execution_count": 15,
   "metadata": {},
   "outputs": [],
   "source": [
    "# data_train = data_train.astype('float32')"
   ]
  },
  {
   "cell_type": "code",
   "execution_count": 16,
   "metadata": {},
   "outputs": [],
   "source": [
    "# Normalize values\n",
    "data_train = data_train.astype('float32')\n",
    "data_test = data_test.astype('float32')\n",
    "\n",
    "data_train /= 255\n",
    "data_test /= 255"
   ]
  },
  {
   "cell_type": "markdown",
   "metadata": {},
   "source": [
    "## Build Model"
   ]
  },
  {
   "cell_type": "code",
   "execution_count": 17,
   "metadata": {},
   "outputs": [],
   "source": [
    "model = Sequential()"
   ]
  },
  {
   "cell_type": "markdown",
   "metadata": {},
   "source": [
    "#### Add layers"
   ]
  },
  {
   "cell_type": "code",
   "execution_count": 18,
   "metadata": {},
   "outputs": [],
   "source": [
    "model.add(Conv2D(32, (3,3), input_shape=(50,50,3), activation='relu'))\n",
    "model.add(Conv2D(32, (3,3), activation='relu'))\n",
    "model.add(MaxPool2D(pool_size=(2,2)))\n",
    "model.add(Dropout(0.25))\n",
    "model.add(Flatten())\n",
    "model.add(Dense(128, activation='relu'))\n",
    "model.add(Dense(256, activation='relu'))\n",
    "model.add(Dense(256, activation='relu'))\n",
    "model.add(Dense(128, activation='relu'))\n",
    "# model.add(Dropout(0.5))\n",
    "# model.add(Dense(2, activation='sigmoid')) --> original\n",
    "model.add(Dense(1, activation='sigmoid'))\n",
    "# model.add(Dense(1, activation='relu')) --> doesn't converge"
   ]
  },
  {
   "cell_type": "markdown",
   "metadata": {},
   "source": [
    "#### Compile Model"
   ]
  },
  {
   "cell_type": "code",
   "execution_count": null,
   "metadata": {},
   "outputs": [],
   "source": [
    "model.compile(loss='binary_crossentropy', optimizer='sgd', metrics=['accuracy'])"
   ]
  },
  {
   "cell_type": "markdown",
   "metadata": {},
   "source": [
    "#### Train Model"
   ]
  },
  {
   "cell_type": "code",
   "execution_count": null,
   "metadata": {},
   "outputs": [
    {
     "name": "stdout",
     "output_type": "stream",
     "text": [
      "Epoch 1/100\n",
      "1600/1600 [==============================] - 8s 5ms/step - loss: 0.6931 - acc: 0.5012\n",
      "Epoch 2/100\n",
      "1600/1600 [==============================] - 8s 5ms/step - loss: 0.6933 - acc: 0.5019\n",
      "Epoch 3/100\n",
      "1600/1600 [==============================] - 8s 5ms/step - loss: 0.6931 - acc: 0.5100\n",
      "Epoch 4/100\n",
      "1600/1600 [==============================] - 8s 5ms/step - loss: 0.6929 - acc: 0.5287\n",
      "Epoch 5/100\n",
      "1600/1600 [==============================] - 8s 5ms/step - loss: 0.6930 - acc: 0.5038\n",
      "Epoch 6/100\n",
      "1600/1600 [==============================] - 8s 5ms/step - loss: 0.6932 - acc: 0.5100\n",
      "Epoch 7/100\n",
      "1504/1600 [===========================>..] - ETA: 0s - loss: 0.6931 - acc: 0.5106"
     ]
    }
   ],
   "source": [
    "model.fit(data_train,\n",
    "          labels_train, \n",
    "          epochs=100,\n",
    "          verbose=1)"
   ]
  },
  {
   "cell_type": "code",
   "execution_count": null,
   "metadata": {},
   "outputs": [],
   "source": []
  }
 ],
 "metadata": {
  "kernelspec": {
   "display_name": "Python 3",
   "language": "python",
   "name": "python3"
  },
  "language_info": {
   "codemirror_mode": {
    "name": "ipython",
    "version": 3
   },
   "file_extension": ".py",
   "mimetype": "text/x-python",
   "name": "python",
   "nbconvert_exporter": "python",
   "pygments_lexer": "ipython3",
   "version": "3.5.2"
  }
 },
 "nbformat": 4,
 "nbformat_minor": 2
}
